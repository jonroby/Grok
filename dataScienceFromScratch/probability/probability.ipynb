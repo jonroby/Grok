{
 "cells": [
  {
   "cell_type": "code",
   "execution_count": null,
   "metadata": {
    "collapsed": true
   },
   "outputs": [],
   "source": [
    "# PROBABILITY"
   ]
  },
  {
   "cell_type": "code",
   "execution_count": 7,
   "metadata": {
    "collapsed": false
   },
   "outputs": [
    {
     "name": "stdout",
     "output_type": "stream",
     "text": [
      "P(both | older):  0.5007089325501317\n",
      "P(both | either):  0.3311897106109325\n"
     ]
    }
   ],
   "source": [
    "# Conditional Probability\n",
    "\n",
    "\"\"\"\n",
    "What is the probability of the event that two children are girls (in some family), conditional on the event that the\n",
    "older child is a girl and assuming:\n",
    "\n",
    "    1. Each child is equally likely to be a boy or girl.\n",
    "    2. The gender of the second child is independent of the gender of the first child.\n",
    "\n",
    "P(B|G) = P(B,G)/P(G) = P(B)/P(G) = 1/2\n",
    "\n",
    "This is intuitive. However, suppose the question is what is the probability that both children are girls and the older\n",
    "child is a girl (same assumptions apply)?\n",
    "\n",
    "It might seem that it is 1/2, but this is false. To provide an intuition, all possibilities are as follows:\n",
    "\n",
    "BB\n",
    "BG\n",
    "GB\n",
    "GG\n",
    "\n",
    "So of there are three possibilities where at least one child is a girl and of those, only one is the case where\n",
    "both are girls. So 1/3 is the answer.\n",
    "\n",
    "Using the formula:\n",
    "\n",
    "P(B|L) = P(B,L)/P(L) = P(B)/P(L) = (1/4)/(3/4) = 1/3\n",
    "\n",
    "For fun, check this by get generating families.\n",
    "\"\"\"\n",
    "\n",
    "import random\n",
    "\n",
    "def random_kid():\n",
    "    return random.choice([\"boy\", \"girl\"])\n",
    "\n",
    "both_girls = 0\n",
    "older_girl = 0\n",
    "either_girl = 0\n",
    "\n",
    "random.seed(0)\n",
    "\n",
    "for _ in range(10000):\n",
    "    younger = random_kid()\n",
    "    older = random_kid()\n",
    "    if older == \"girl\":\n",
    "        older_girl += 1\n",
    "    if older == \"girl\" and younger == \"girl\":\n",
    "        both_girls += 1\n",
    "    if older == \"girl\" or younger == \"girl\":\n",
    "        either_girl += 1\n",
    "    \n",
    "print(\"P(both | older): \", both_girls / older_girl) # 0.501\n",
    "print(\"P(both | either): \", both_girls / either_girl) # 0.331\n"
   ]
  },
  {
   "cell_type": "code",
   "execution_count": 8,
   "metadata": {
    "collapsed": true
   },
   "outputs": [],
   "source": [
    "# Random Variables\n",
    "\n",
    "# A random variable whose possible values have an associated probability distribution."
   ]
  },
  {
   "cell_type": "code",
   "execution_count": 10,
   "metadata": {
    "collapsed": true
   },
   "outputs": [],
   "source": [
    "# Continuous Distributions\n",
    "\n",
    "\"\"\"\n",
    "A coin flip corresponds to a discrete distribution--one that associates positive probability with discrete outcomes.\n",
    "Often we'll want to model distributions across a continuum of outcomes. For example, the uniform distribution puts \n",
    "equal weight on all the numbers between 0.\n",
    "\n",
    "Because there are infinitely many numbers between 0 and 1, this means that the weight it assigns to individual points\n",
    "must necessarily be zero. For this reason, we represent a continuous distribution with a probability density function\n",
    "(pdf) such that the probability of seeing a value in a certain interval equals the integral of the density function\n",
    "over the interval.\n",
    "\"\"\"\n",
    "\n",
    "def uniform_pdf(x):\n",
    "    return 1 if x >= 0 and x < 1 else 0\n",
    "\n",
    "\"\"\"\n",
    "We'll often be more interested in the cumulative distribution function (cdf), which gives the probability that a random\n",
    "variable is less than or equal to a certain value.\n",
    "\"\"\"\n",
    "\n",
    "def uniform_cdf(x):\n",
    "    if < 0: return 0\n",
    "    elif x < 1: return x\n",
    "    else: return 1"
   ]
  },
  {
   "cell_type": "code",
   "execution_count": null,
   "metadata": {
    "collapsed": true
   },
   "outputs": [],
   "source": []
  }
 ],
 "metadata": {
  "anaconda-cloud": {},
  "kernelspec": {
   "display_name": "Python [conda env:anaconda]",
   "language": "python",
   "name": "conda-env-anaconda-py"
  },
  "language_info": {
   "codemirror_mode": {
    "name": "ipython",
    "version": 3
   },
   "file_extension": ".py",
   "mimetype": "text/x-python",
   "name": "python",
   "nbconvert_exporter": "python",
   "pygments_lexer": "ipython3",
   "version": "3.5.2"
  }
 },
 "nbformat": 4,
 "nbformat_minor": 1
}
