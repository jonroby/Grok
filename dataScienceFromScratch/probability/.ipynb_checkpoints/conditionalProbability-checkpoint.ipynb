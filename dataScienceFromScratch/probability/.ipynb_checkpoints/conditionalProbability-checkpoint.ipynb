{
 "cells": [
  {
   "cell_type": "code",
   "execution_count": 3,
   "metadata": {
    "collapsed": false
   },
   "outputs": [
    {
     "data": {
      "text/plain": [
       "'\\nWhat is the probability of the event that two children are girls (in some family), conditional\\non the event that the older child is a girl and assuming:\\n\\n    1. Each child is equally likely to be a boy or girl.\\n    2. The gender of the second child is independent of the gender of the first child.\\n\\nP(B|G) = P(B,G)/P(G) = P(B)/P(G) = 1/2\\n\\nThis is intuitive. However, suppose the question is what is the probability that both children\\nare girls and the older child is a girl (same assumptions apply)?\\n\\nIt might seem that it is 1/2, but this is false. To provide an intuition, all possibilities are as follows:\\n\\nBB\\nBG\\nGB\\nGG\\n\\nSo of there are three possibilities where at least one child is a girl and of those, only one is the case where\\nboth are girls. So 1/3 is the answer.\\n\\nUsing the formula:\\n\\nP(B|L)\\n\\n'"
      ]
     },
     "execution_count": 3,
     "metadata": {},
     "output_type": "execute_result"
    }
   ],
   "source": [
    "# CONDITIONAL PROBABILITY\n",
    "\n",
    "\"\"\"\n",
    "What is the probability of the event that two children are girls (in some family), conditional\n",
    "on the event that the older child is a girl and assuming:\n",
    "\n",
    "    1. Each child is equally likely to be a boy or girl.\n",
    "    2. The gender of the second child is independent of the gender of the first child.\n",
    "\n",
    "P(B|G) = P(B,G)/P(G) = P(B)/P(G) = 1/2\n",
    "\n",
    "This is intuitive. However, suppose the question is what is the probability that both children\n",
    "are girls and the older child is a girl (same assumptions apply)?\n",
    "\n",
    "It might seem that it is 1/2, but this is false. To provide an intuition, all possibilities are as follows:\n",
    "\n",
    "BB\n",
    "BG\n",
    "GB\n",
    "GG\n",
    "\n",
    "So of there are three possibilities where at least one child is a girl and of those, only one is the case where\n",
    "both are girls. So 1/3 is the answer.\n",
    "\n",
    "Using the formula:\n",
    "\n",
    "P(B|L) = P(B,L)/P(L) = P(B)/P(L) = (1/4)/(3/4) = 1/3\n",
    "\n",
    "For fun, check this by get generating families.\n",
    "\"\"\"\n",
    "\n",
    "import random\n",
    "\n",
    "def random_kid():\n",
    "    return random.choice([\"boy\", \"girl\"])\n",
    "\n",
    "both_girls = 0\n",
    "older_girl = 0\n",
    "either_girl = 0\n",
    "\n",
    "random.seed(0)\n",
    "\n",
    "for _ in range(10000):\n",
    "    younger = random_kid()\n",
    "    older = random_kid()\n",
    "    if older == \"girl\":\n",
    "        older_girl += 1\n",
    "    if older == \"girl\" and younger == \"girl\":\n",
    "        both_girls += 1\n",
    "    if older == \"girl\" or younger == \"girl\":\n",
    "        either_girl += 1\n"
   ]
  },
  {
   "cell_type": "code",
   "execution_count": null,
   "metadata": {
    "collapsed": true
   },
   "outputs": [],
   "source": []
  }
 ],
 "metadata": {
  "anaconda-cloud": {},
  "kernelspec": {
   "display_name": "Python [conda env:anaconda]",
   "language": "python",
   "name": "conda-env-anaconda-py"
  },
  "language_info": {
   "codemirror_mode": {
    "name": "ipython",
    "version": 3
   },
   "file_extension": ".py",
   "mimetype": "text/x-python",
   "name": "python",
   "nbconvert_exporter": "python",
   "pygments_lexer": "ipython3",
   "version": "3.5.2"
  }
 },
 "nbformat": 4,
 "nbformat_minor": 1
}
