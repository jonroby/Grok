{
 "cells": [
  {
   "cell_type": "markdown",
   "metadata": {},
   "source": [
    "Dynamic programming is a method for efficiently solving problems that exhibit the characteristics of overlapping subproblems and optimal substructure.\n",
    "\n",
    "A problem has optimal substructure if a globally optimal solution can be found by combining optimal solutions to local subproblems. Merge sort is such an example. It exploits the fact that a list can be sorted by first sorting sublists and then merging the solutions.\n",
    "\n",
    "A problem has overlapping subproblems if an optimal solution involves solving the same problem multiple times. Merge sort does not exhibit this property. Even though merge is performed many times, they are different lists each time."
   ]
  },
  {
   "cell_type": "code",
   "execution_count": 1,
   "metadata": {
    "collapsed": false
   },
   "outputs": [
    {
     "data": {
      "text/plain": [
       "2"
      ]
     },
     "execution_count": 1,
     "metadata": {},
     "output_type": "execute_result"
    }
   ],
   "source": [
    "def fib(n):\n",
    "    if n == 0 or n == 1:\n",
    "        return 1\n",
    "    else:\n",
    "        return fib(n-1) + fib(n-2)\n",
    "\n",
    "fib(2)"
   ]
  },
  {
   "cell_type": "code",
   "execution_count": 2,
   "metadata": {
    "collapsed": false
   },
   "outputs": [],
   "source": [
    "def dynamicFib(n, memo = {}):\n",
    "    \n",
    "    if n == 0 or n == 1:\n",
    "        return 1\n",
    "    else:\n",
    "        if memo[n]:\n",
    "            return memo[n]\n",
    "        else:\n",
    "            result = dynamicFib(n-1, memo) + dynamicFib(n-1, memo)\n",
    "            memo[n] = result\n",
    "            return result"
   ]
  }
 ],
 "metadata": {
  "anaconda-cloud": {},
  "kernelspec": {
   "display_name": "Python [conda env:anaconda]",
   "language": "python",
   "name": "conda-env-anaconda-py"
  },
  "language_info": {
   "codemirror_mode": {
    "name": "ipython",
    "version": 3
   },
   "file_extension": ".py",
   "mimetype": "text/x-python",
   "name": "python",
   "nbconvert_exporter": "python",
   "pygments_lexer": "ipython3",
   "version": "3.5.2"
  }
 },
 "nbformat": 4,
 "nbformat_minor": 1
}
