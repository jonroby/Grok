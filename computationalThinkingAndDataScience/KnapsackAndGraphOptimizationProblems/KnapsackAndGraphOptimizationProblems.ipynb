{
 "cells": [
  {
   "cell_type": "code",
   "execution_count": 1,
   "metadata": {
    "collapsed": false
   },
   "outputs": [
    {
     "data": {
      "text/plain": [
       "'\\nIn general, an optimization problem has two parts:\\n    1) An objective function that is to be maximized or minimized. For example, the\\n    between Boston and Istanbul.\\n    2) A set of constraints (possibly empty) that must be honored. For example, an upper\\n    bound \\n'"
      ]
     },
     "execution_count": 1,
     "metadata": {},
     "output_type": "execute_result"
    }
   ],
   "source": [
    "\"\"\"\n",
    "In general, an optimization problem has two parts:\n",
    "    1) An objective function that is to be maximized or minimized. For example, the\n",
    "    between Boston and Istanbul.\n",
    "    2) A set of constraints (possibly empty) that must be honored. For example, an upper\n",
    "    bound \n",
    "\"\"\""
   ]
  },
  {
   "cell_type": "code",
   "execution_count": 3,
   "metadata": {
    "collapsed": false
   },
   "outputs": [
    {
     "data": {
      "text/plain": [
       "'\\nKnapsack Problem\\n\\nSuppose a burglar, who has a knapsack that can hold at most 20 pounds of loot, breaks into a\\nhouse and finds the items listed below. He will not be able to fit it all in his knapsack, so\\nhe needs to decide what to leave behind.\\n'"
      ]
     },
     "execution_count": 3,
     "metadata": {},
     "output_type": "execute_result"
    }
   ],
   "source": [
    "\"\"\"\n",
    "Knapsack Problem\n",
    "\n",
    "Suppose a burglar, who has a knapsack that can hold at most 20 pounds of loot, breaks into a\n",
    "house and finds a number of items. He will not be able to fit it all in his knapsack, so\n",
    "he needs to decide what to leave behind.\n",
    "\"\"\""
   ]
  },
  {
   "cell_type": "code",
   "execution_count": 2,
   "metadata": {
    "collapsed": false
   },
   "outputs": [],
   "source": [
    "\"\"\"\n",
    "The simplest way to find an approximate solution to this problem is to use a greedy algorithm.\n",
    "The thief would choose the best item first, then the next best, and continue until he reached\n",
    "his limit.\n",
    "\n",
    "However, there is no guarantee that any solution to this kind of knapsack problem will be \n",
    "optimal.\n",
    "\"\"\"\n",
    "\n",
    "class Item(object):\n",
    "    def __init__(self, n, v, w):\n",
    "        self.name = n\n",
    "        self.value = v\n",
    "        self.weight = w\n",
    "    \n",
    "    def getName(self):\n",
    "        return self.name\n",
    "    \n",
    "    def getValue(self):\n",
    "        return self.value\n",
    "    \n",
    "    def getWeight(self):\n",
    "        return self.weight\n",
    "    \n",
    "    def __str__(self):\n",
    "        result = '<' + self.name + ', ' + str(self.value) + ', ' + str(self.weight) + '>'\n",
    "        return result\n",
    "\n",
    "def value(item):\n",
    "    return item.getValue()\n",
    "\n",
    "def weightInverse(item):\n",
    "    return 1.0/item.getWeight()\n",
    "\n",
    "def density(item):\n",
    "    return item.getValue()/item.getWeight()\n",
    "\n",
    "def greedy(items, maxWeight, keyFunction):\n",
    "    \"\"\"Assumes Items a list, maxWeight >= 0,\n",
    "       keyFunction maps elements of Items to numbers\"\"\"\n",
    "    \n",
    "    itemsCopy = sorted(items, key=keyFunction, reverse = True)\n",
    "    result = []\n",
    "    totalValue, totalWeight = 0.0, 0.0\n",
    "    for i in range(len(itemsCopy)):\n",
    "        if (totalWeight + itemsCopy[i].getWeight()) <= maxWeight:\n",
    "            result.append(itemsCopy[i])\n",
    "            totalWeight += itemsCopy[i].getWeight()\n",
    "            totalValue += itemsCopy[i].getValue()\n",
    "    return (result, totalValue)"
   ]
  },
  {
   "cell_type": "code",
   "execution_count": 3,
   "metadata": {
    "collapsed": false
   },
   "outputs": [
    {
     "name": "stdout",
     "output_type": "stream",
     "text": [
      "<clock, 175, 10>\n",
      "<painting, 90, 9>\n",
      "<radio, 20, 4>\n",
      "<vase, 50, 2>\n",
      "<book, 10, 1>\n",
      "<computer, 200, 20>\n",
      "Use greedy by value to fill knapsack of size 20\n",
      "Total value of items taken is  200.0\n",
      "<computer, 200, 20>\n",
      "\n",
      "Use greedy by weight to fill knapsack of size  20\n",
      "Total value of items taken is  170.0\n",
      "<book, 10, 1>\n",
      "<vase, 50, 2>\n",
      "<radio, 20, 4>\n",
      "<painting, 90, 9>\n",
      "\n",
      "Use greedy by density to fill knapsack of size  20\n",
      "Total value of items taken is  255.0\n",
      "<vase, 50, 2>\n",
      "<clock, 175, 10>\n",
      "<book, 10, 1>\n",
      "<radio, 20, 4>\n"
     ]
    }
   ],
   "source": [
    "def buildItems():\n",
    "    names = ['clock', 'painting', 'radio', 'vase', 'book', 'computer']\n",
    "    values = [175, 90, 20, 50, 10, 200]\n",
    "    weights = [10, 9, 4, 2, 1, 20]\n",
    "    Items = []\n",
    "    for i in range(len(values)):\n",
    "        print (Item(names[i], values[i], weights[i]))\n",
    "        Items.append(Item(names[i], values[i], weights[i]))\n",
    "    return Items\n",
    "\n",
    "def testGreedy(items, maxWeight, keyFunction):\n",
    "    taken, val = greedy(items, maxWeight, keyFunction)\n",
    "    print('Total value of items taken is ', val)\n",
    "    for item in taken:\n",
    "        print(item)\n",
    "\n",
    "def testGreedys(maxWeight = 20):\n",
    "    items = buildItems()\n",
    "    print('Use greedy by value to fill knapsack of size', maxWeight)\n",
    "    testGreedy(items, maxWeight, value)\n",
    "    print('\\nUse greedy by weight to fill knapsack of size ', maxWeight)\n",
    "    testGreedy(items, maxWeight, weightInverse)\n",
    "    print('\\nUse greedy by density to fill knapsack of size ', maxWeight)\n",
    "    testGreedy(items, maxWeight, density)\n",
    "\n",
    "testGreedys()"
   ]
  },
  {
   "cell_type": "code",
   "execution_count": null,
   "metadata": {
    "collapsed": true
   },
   "outputs": [],
   "source": []
  }
 ],
 "metadata": {
  "anaconda-cloud": {},
  "kernelspec": {
   "display_name": "Python [conda env:anaconda]",
   "language": "python",
   "name": "conda-env-anaconda-py"
  },
  "language_info": {
   "codemirror_mode": {
    "name": "ipython",
    "version": 3
   },
   "file_extension": ".py",
   "mimetype": "text/x-python",
   "name": "python",
   "nbconvert_exporter": "python",
   "pygments_lexer": "ipython3",
   "version": "3.5.2"
  }
 },
 "nbformat": 4,
 "nbformat_minor": 1
}
