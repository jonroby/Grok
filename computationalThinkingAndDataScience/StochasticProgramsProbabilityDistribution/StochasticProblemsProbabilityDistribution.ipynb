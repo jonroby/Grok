{
 "cells": [
  {
   "cell_type": "code",
   "execution_count": 6,
   "metadata": {},
   "outputs": [],
   "source": [
    "import random\n",
    "\n",
    "def rollDie():\n",
    "    \"\"\"returns a random int between 1 and 6\"\"\"\n",
    "    return random.choice([1,2,3,4,5,6])\n",
    "\n",
    "def testRoll(n = 10):\n",
    "    result = ''\n",
    "    for i in range(n):\n",
    "        result = result + str(rollDie())\n",
    "    print(result)"
   ]
  },
  {
   "cell_type": "markdown",
   "metadata": {},
   "source": [
    "Suppose we want to know the probability of getting any sequence other than all 1s when rolling a die. The answer is $ 1 - (1/6^{10}) $."
   ]
  },
  {
   "cell_type": "markdown",
   "metadata": {},
   "source": [
    "Three Basic Facts about Probability\n",
    "\n",
    "1) Probabilities are always in the range 0 to 1. 0 if impossible, 1 if guaranteed.\n",
    "\n",
    "2) If the probability of an event ocurring is p, the probability of it not occuring must be 1 - p.\n",
    "\n",
    "3) When events are independent of each other, the probability of all events occurring is equal to the product of the probabilities of each of the events occurring."
   ]
  },
  {
   "cell_type": "markdown",
   "metadata": {},
   "source": [
    "Will one of the Patriots and Broncos lose?\n",
    "\n",
    "Patriots have a winning percentage of 7/8; Broncos of 6/8.\n",
    "\n",
    "Probability of both winning next Sunday is 7/8 * 6/8 = 42/64.\n",
    "\n",
    "Probability of at least one losing is 1 - 42/64 = 22/64 (this is an example of why using the \"1 minus rule\" is helpful).\n",
    "\n",
    "PROBLEM: However, when they play eachother the events are not independent."
   ]
  },
  {
   "cell_type": "code",
   "execution_count": 10,
   "metadata": {},
   "outputs": [
    {
     "name": "stdout",
     "output_type": "stream",
     "text": [
      "Actual probability of  11111 = 0.0001286\n",
      "Estimated Probability  11111 = 0.00014\n"
     ]
    }
   ],
   "source": [
    "def runSim(goal, numTrials, txt):\n",
    "    total = 0\n",
    "    for i in range(numTrials):\n",
    "        result = ''\n",
    "        for j in range(len(goal)):\n",
    "            result += str(rollDie())\n",
    "        if result == goal:\n",
    "            total += 1\n",
    "        \n",
    "    print('Actual probability of ', txt, '=', round(1/(6**len(goal)), 8))\n",
    "    estProbability = round(total/numTrials, 8)\n",
    "    print('Estimated Probability ', txt, '=', round(estProbability, 8))\n",
    "\n",
    "runSim('11111', 1000000, '11111')"
   ]
  },
  {
   "cell_type": "markdown",
   "metadata": {},
   "source": [
    "If the above simulation were only done 1000 times, the estimated probability would probably be close to 0."
   ]
  },
  {
   "cell_type": "markdown",
   "metadata": {},
   "source": [
    "*The Birthday Problem*\n",
    "\n",
    "What's the probability of at least two people in a group having the same birthday? If there are 367 people in the group? And if we assume that each birthdate is equally likely (without this assumption, very complicated solution):\n",
    "\n",
    "$$ 1 - \\dfrac{366!}{366^{N} * (366-N)!} $$\n",
    "\n",
    "What about smaller numbers?"
   ]
  },
  {
   "cell_type": "code",
   "execution_count": 14,
   "metadata": {},
   "outputs": [
    {
     "name": "stdout",
     "output_type": "stream",
     "text": [
      "For 10 est. prob. of a shared birthday is 0.136\n",
      "Actual prob. for N = 100 =  0.1166454118039999\n",
      "For 20 est. prob. of a shared birthday is 0.411\n",
      "Actual prob. for N = 100 =  0.4105696370550831\n",
      "For 40 est. prob. of a shared birthday is 0.867\n",
      "Actual prob. for N = 100 =  0.89054476188945\n",
      "For 100 est. prob. of a shared birthday is 1.0\n",
      "Actual prob. for N = 100 =  0.9999996784357714\n"
     ]
    }
   ],
   "source": [
    "import math\n",
    "\n",
    "def sameDate(numPeople, numSame):\n",
    "    possibleDates = range(366)\n",
    "    birthdays = [0] * 366\n",
    "    for p in range(numPeople):\n",
    "        birthDate = random.choice(possibleDates)\n",
    "        birthdays[birthDate] += 1\n",
    "    return max(birthdays) >= numSame\n",
    "\n",
    "def birthdayProb(numPeople, numSame, numTrials):\n",
    "    numHits = 0\n",
    "    for t in range(numTrials):\n",
    "        if sameDate(numPeople, numSame):\n",
    "            numHits += 1\n",
    "    return numHits/numTrials\n",
    "\n",
    "for numPeople in [10, 20, 40, 100]:\n",
    "    print('For', numPeople,\n",
    "         'est. prob. of a shared birthday is',\n",
    "         birthdayProb(numPeople, 2, 1000))\n",
    "    numerator = math.factorial(366)\n",
    "    denom = (366**numPeople)*math.factorial(366-numPeople)\n",
    "    print('Actual prob. for N = 100 = ', 1 - numerator/denom)"
   ]
  },
  {
   "cell_type": "markdown",
   "metadata": {},
   "source": [
    "An important takeaway is that simulations are far easier than solving the math problem.\n",
    "\n",
    "Simulation models are a description of computations that provide useful information about the possible behaviors of the system being modeled."
   ]
  }
 ],
 "metadata": {
  "kernelspec": {
   "display_name": "Python 3",
   "language": "python",
   "name": "python3"
  },
  "language_info": {
   "codemirror_mode": {
    "name": "ipython",
    "version": 3
   },
   "file_extension": ".py",
   "mimetype": "text/x-python",
   "name": "python",
   "nbconvert_exporter": "python",
   "pygments_lexer": "ipython3",
   "version": "3.6.4"
  }
 },
 "nbformat": 4,
 "nbformat_minor": 2
}
